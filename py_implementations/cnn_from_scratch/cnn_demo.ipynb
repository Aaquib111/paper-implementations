{
 "cells": [
  {
   "cell_type": "code",
   "execution_count": 9,
   "metadata": {},
   "outputs": [
    {
     "name": "stdout",
     "output_type": "stream",
     "text": [
      "The autoreload extension is already loaded. To reload it, use:\n",
      "  %reload_ext autoreload\n"
     ]
    },
    {
     "name": "stderr",
     "output_type": "stream",
     "text": [
      "/var/folders/hr/g7g4692d5xzbk_tymkpgfq940000gn/T/ipykernel_28379/86918498.py:27: DeprecationWarning: `magic(...)` is deprecated since IPython 0.13 (warning added in 8.1), use run_line_magic(magic_name, parameter_s).\n",
      "  ipython.magic(\"load_ext autoreload\")\n",
      "/var/folders/hr/g7g4692d5xzbk_tymkpgfq940000gn/T/ipykernel_28379/86918498.py:28: DeprecationWarning: `magic(...)` is deprecated since IPython 0.13 (warning added in 8.1), use run_line_magic(magic_name, parameter_s).\n",
      "  ipython.magic(\"autoreload 2\")\n"
     ]
    }
   ],
   "source": [
    "import os\n",
    "import sys\n",
    "import numpy as np\n",
    "import einops\n",
    "from typing import Union, Optional, Tuple, List, Dict\n",
    "import torch\n",
    "from torch import Tensor\n",
    "import torch.nn as nn\n",
    "import torch.nn.functional as F\n",
    "from jaxtyping import Float, Int\n",
    "import functools\n",
    "from pathlib import Path\n",
    "from torchvision import datasets, transforms, models\n",
    "from torch.utils.data import DataLoader, Subset\n",
    "from tqdm.notebook import tqdm\n",
    "from dataclasses import dataclass\n",
    "from PIL import Image\n",
    "import json\n",
    "\n",
    "from cnn import SimpleMLP\n",
    "\n",
    "import plotly\n",
    "import plotly.graph_objects as go\n",
    "\n",
    "from IPython import get_ipython\n",
    "ipython = get_ipython()\n",
    "ipython.magic(\"load_ext autoreload\")\n",
    "ipython.magic(\"autoreload 2\")\n",
    "\n",
    "MAIN = __name__ == \"__main__\"\n",
    "\n",
    "device = torch.device(\"cuda\" if torch.cuda.is_available() else \"mps:0\")"
   ]
  },
  {
   "cell_type": "markdown",
   "metadata": {},
   "source": [
    "# Load MNIST"
   ]
  },
  {
   "cell_type": "code",
   "execution_count": 4,
   "metadata": {},
   "outputs": [],
   "source": [
    "MNIST_TRANSFORM = transforms.Compose([\n",
    "    transforms.ToTensor(),\n",
    "    transforms.Normalize((0.1307,), (0.3081,))\n",
    "])\n",
    "\n",
    "def get_mnist(subset: int = 1):\n",
    "    '''Returns MNIST training data, sampled by the frequency given in `subset`.'''\n",
    "    mnist_trainset = datasets.MNIST(root=\"./data\", train=True, download=True, transform=MNIST_TRANSFORM)\n",
    "    mnist_testset = datasets.MNIST(root=\"./data\", train=False, download=True, transform=MNIST_TRANSFORM)\n",
    "\n",
    "    if subset > 1:\n",
    "        mnist_trainset = Subset(mnist_trainset, indices=range(0, len(mnist_trainset), subset))\n",
    "        mnist_testset = Subset(mnist_testset, indices=range(0, len(mnist_testset), subset))\n",
    "\n",
    "    return mnist_trainset, mnist_testset\n",
    "\n",
    "\n",
    "mnist_trainset, mnist_testset = get_mnist()\n",
    "mnist_trainloader = DataLoader(mnist_trainset, batch_size=64, shuffle=True)\n",
    "mnist_testloader = DataLoader(mnist_testset, batch_size=64, shuffle=False)"
   ]
  },
  {
   "cell_type": "markdown",
   "metadata": {},
   "source": [
    "# Training"
   ]
  },
  {
   "cell_type": "code",
   "execution_count": 12,
   "metadata": {},
   "outputs": [
    {
     "data": {
      "application/vnd.plotly.v1+json": {
       "config": {
        "plotlyServerURL": "https://plot.ly"
       },
       "data": [
        {
         "mode": "lines",
         "type": "scatter",
         "y": [
          2.2691452503204346,
          2.1359505653381348,
          2.177028179168701,
          2.0226142406463623,
          2.0453553199768066,
          2.060825824737549,
          1.951458215713501,
          1.7838869094848633,
          1.88541841506958,
          2.05006742477417,
          1.7728785276412964,
          1.6194270849227905,
          1.75209379196167,
          1.5466663837432861,
          1.5424529314041138,
          1.7729524374008179,
          1.5869983434677124,
          1.4066903591156006,
          1.5054571628570557,
          1.3930046558380127,
          1.3190486431121826,
          1.195183277130127,
          1.3697724342346191,
          1.2159446477890015,
          1.3445355892181396,
          1.1878281831741333,
          1.1594271659851074,
          0.9327597618103027,
          1.1654120683670044,
          0.9482280015945435,
          0.9883706569671631,
          0.924541711807251,
          0.8848296403884888,
          0.907159686088562,
          0.7336995601654053,
          0.8039265275001526,
          0.7062610387802124,
          0.8733160495758057,
          0.8331102132797241,
          0.6772524118423462,
          0.7914942502975464,
          0.6829934120178223,
          0.7805492877960205,
          0.6838153004646301,
          0.6684345006942749,
          0.6485016345977783,
          0.6631215214729309,
          0.6521062850952148,
          0.7702392339706421,
          0.4727991223335266,
          0.4769439697265625,
          0.5805085897445679,
          0.6367059946060181,
          0.642015814781189,
          0.6842162609100342,
          0.6052283644676208,
          0.5468578934669495,
          0.662579357624054,
          0.5543850660324097,
          0.6504770517349243,
          0.4994654655456543,
          0.5489068627357483,
          0.6255166530609131,
          0.6521820425987244,
          0.5385908484458923,
          0.46898484230041504,
          0.6303398013114929,
          0.4658489525318146,
          0.6738033294677734,
          0.4785391092300415,
          0.5438067317008972,
          0.5181524753570557,
          0.5558124780654907,
          0.395621657371521,
          0.5582780838012695,
          0.36651772260665894,
          0.5059903860092163,
          0.731260359287262,
          0.4760001003742218,
          0.6476669311523438,
          0.5110409259796143,
          0.6058840155601501,
          0.5040673613548279,
          0.47350069880485535,
          0.4545600116252899,
          0.5429704785346985,
          0.42436686158180237,
          0.7711537480354309,
          0.5598847270011902,
          0.6123066544532776,
          0.4270695447921753,
          0.519814133644104,
          0.46080508828163147,
          0.5160546898841858,
          0.4456560015678406,
          0.3012675642967224,
          0.407917857170105,
          0.41400590538978577,
          0.4616243541240692,
          0.6061773300170898,
          0.4555507004261017,
          0.42295968532562256,
          0.4085347056388855,
          0.4817200005054474,
          0.4087735116481781,
          0.5119599103927612,
          0.3453693389892578,
          0.5187575817108154,
          0.4091203808784485,
          0.426785945892334,
          0.48866862058639526,
          0.4252682626247406,
          0.24215419590473175,
          0.5330278873443604,
          0.4164150357246399,
          0.4461073577404022,
          0.24982385337352753,
          0.4347631335258484,
          0.3739703893661499,
          0.4599381983280182,
          0.21443741023540497,
          0.34981298446655273,
          0.3610168695449829,
          0.5396327972412109,
          0.3604215979576111,
          0.31663864850997925,
          0.41768407821655273,
          0.5308369994163513,
          0.4443575143814087,
          0.21307353675365448,
          0.33572572469711304,
          0.47860074043273926,
          0.45458096265792847,
          0.40035414695739746,
          0.4172045886516571,
          0.5270519256591797,
          0.24181795120239258,
          0.6523743271827698,
          0.40202218294143677,
          0.4834894835948944,
          0.2967682480812073,
          0.4948728680610657,
          0.331350177526474,
          0.28926336765289307,
          0.39431482553482056,
          0.34887945652008057,
          0.25531649589538574,
          0.3428723216056824,
          0.2748803496360779,
          0.4098570644855499,
          0.4759100079536438,
          0.4291931688785553,
          0.36262834072113037,
          0.3245057165622711,
          0.3241230249404907,
          0.41500645875930786,
          0.46094924211502075,
          0.26555341482162476,
          0.30245089530944824,
          0.30665165185928345,
          0.4163030982017517,
          0.5152304172515869,
          0.4567282199859619,
          0.3112521171569824,
          0.1562693566083908,
          0.28639715909957886,
          0.3378309905529022,
          0.250463604927063,
          0.3878509998321533,
          0.27568185329437256,
          0.6651917695999146,
          0.5684949159622192,
          0.3865746557712555,
          0.44814878702163696,
          0.3329806625843048,
          0.36803311109542847,
          0.44509950280189514,
          0.240128755569458,
          0.309998095035553,
          0.3718903660774231,
          0.19250136613845825,
          0.451930433511734,
          0.26470696926116943,
          0.38295507431030273,
          0.2800825238227844,
          0.25008776783943176,
          0.3782682418823242,
          0.5769772529602051,
          0.5343501567840576,
          0.6746480464935303,
          0.23695583641529083,
          0.23231209814548492,
          0.3002065420150757,
          0.26755499839782715,
          0.24918191134929657,
          0.3230772316455841,
          0.1587238311767578,
          0.39148733019828796,
          0.4507705271244049,
          0.4181213974952698,
          0.3606031537055969,
          0.4109605550765991,
          0.2736385464668274,
          0.4611421823501587,
          0.3457382321357727,
          0.24100059270858765,
          0.13971228897571564,
          0.18747133016586304,
          0.3347606062889099,
          0.37934747338294983,
          0.20334269106388092,
          0.36166810989379883,
          0.3238399028778076,
          0.2752864360809326,
          0.2676413655281067,
          0.3391047716140747,
          0.3141566216945648,
          0.23522187769412994,
          0.3068868815898895,
          0.5876532793045044,
          0.6069329977035522,
          0.494373619556427,
          0.3543260991573334,
          0.27253398299217224,
          0.2553553581237793,
          0.1895408034324646,
          0.3571566045284271,
          0.39064621925354004,
          0.36719056963920593,
          0.43069562315940857,
          0.26884180307388306,
          0.1833624243736267,
          0.19867581129074097,
          0.2689926028251648,
          0.326854407787323,
          0.28141099214553833,
          0.28229251503944397,
          0.26801928877830505,
          0.4707571864128113,
          0.35493743419647217,
          0.4581185579299927,
          0.15579497814178467,
          0.36962467432022095,
          0.19805830717086792,
          0.42822039127349854,
          0.43675896525382996,
          0.3771185576915741,
          0.29144537448883057,
          0.35038506984710693,
          0.2438955307006836,
          0.3863907754421234,
          0.2773279547691345,
          0.23357579112052917,
          0.3193882703781128,
          0.33673250675201416,
          0.44677573442459106,
          0.4778599739074707,
          0.19580860435962677,
          0.3012523353099823,
          0.431483656167984,
          0.19115640223026276,
          0.30052563548088074,
          0.21059346199035645,
          0.24106420576572418,
          0.3139730989933014,
          0.2502422034740448,
          0.1926208883523941,
          0.2728132903575897,
          0.2969460189342499,
          0.207109272480011,
          0.3287035822868347,
          0.22749534249305725,
          0.13225650787353516,
          0.22528953850269318,
          0.326204776763916,
          0.4113709628582001,
          0.20770825445652008,
          0.22163140773773193,
          0.3159558176994324,
          0.29163259267807007,
          0.21439582109451294,
          0.35388755798339844
         ]
        }
       ],
       "layout": {
        "template": {
         "data": {
          "bar": [
           {
            "error_x": {
             "color": "#2a3f5f"
            },
            "error_y": {
             "color": "#2a3f5f"
            },
            "marker": {
             "line": {
              "color": "#E5ECF6",
              "width": 0.5
             },
             "pattern": {
              "fillmode": "overlay",
              "size": 10,
              "solidity": 0.2
             }
            },
            "type": "bar"
           }
          ],
          "barpolar": [
           {
            "marker": {
             "line": {
              "color": "#E5ECF6",
              "width": 0.5
             },
             "pattern": {
              "fillmode": "overlay",
              "size": 10,
              "solidity": 0.2
             }
            },
            "type": "barpolar"
           }
          ],
          "carpet": [
           {
            "aaxis": {
             "endlinecolor": "#2a3f5f",
             "gridcolor": "white",
             "linecolor": "white",
             "minorgridcolor": "white",
             "startlinecolor": "#2a3f5f"
            },
            "baxis": {
             "endlinecolor": "#2a3f5f",
             "gridcolor": "white",
             "linecolor": "white",
             "minorgridcolor": "white",
             "startlinecolor": "#2a3f5f"
            },
            "type": "carpet"
           }
          ],
          "choropleth": [
           {
            "colorbar": {
             "outlinewidth": 0,
             "ticks": ""
            },
            "type": "choropleth"
           }
          ],
          "contour": [
           {
            "colorbar": {
             "outlinewidth": 0,
             "ticks": ""
            },
            "colorscale": [
             [
              0,
              "#0d0887"
             ],
             [
              0.1111111111111111,
              "#46039f"
             ],
             [
              0.2222222222222222,
              "#7201a8"
             ],
             [
              0.3333333333333333,
              "#9c179e"
             ],
             [
              0.4444444444444444,
              "#bd3786"
             ],
             [
              0.5555555555555556,
              "#d8576b"
             ],
             [
              0.6666666666666666,
              "#ed7953"
             ],
             [
              0.7777777777777778,
              "#fb9f3a"
             ],
             [
              0.8888888888888888,
              "#fdca26"
             ],
             [
              1,
              "#f0f921"
             ]
            ],
            "type": "contour"
           }
          ],
          "contourcarpet": [
           {
            "colorbar": {
             "outlinewidth": 0,
             "ticks": ""
            },
            "type": "contourcarpet"
           }
          ],
          "heatmap": [
           {
            "colorbar": {
             "outlinewidth": 0,
             "ticks": ""
            },
            "colorscale": [
             [
              0,
              "#0d0887"
             ],
             [
              0.1111111111111111,
              "#46039f"
             ],
             [
              0.2222222222222222,
              "#7201a8"
             ],
             [
              0.3333333333333333,
              "#9c179e"
             ],
             [
              0.4444444444444444,
              "#bd3786"
             ],
             [
              0.5555555555555556,
              "#d8576b"
             ],
             [
              0.6666666666666666,
              "#ed7953"
             ],
             [
              0.7777777777777778,
              "#fb9f3a"
             ],
             [
              0.8888888888888888,
              "#fdca26"
             ],
             [
              1,
              "#f0f921"
             ]
            ],
            "type": "heatmap"
           }
          ],
          "heatmapgl": [
           {
            "colorbar": {
             "outlinewidth": 0,
             "ticks": ""
            },
            "colorscale": [
             [
              0,
              "#0d0887"
             ],
             [
              0.1111111111111111,
              "#46039f"
             ],
             [
              0.2222222222222222,
              "#7201a8"
             ],
             [
              0.3333333333333333,
              "#9c179e"
             ],
             [
              0.4444444444444444,
              "#bd3786"
             ],
             [
              0.5555555555555556,
              "#d8576b"
             ],
             [
              0.6666666666666666,
              "#ed7953"
             ],
             [
              0.7777777777777778,
              "#fb9f3a"
             ],
             [
              0.8888888888888888,
              "#fdca26"
             ],
             [
              1,
              "#f0f921"
             ]
            ],
            "type": "heatmapgl"
           }
          ],
          "histogram": [
           {
            "marker": {
             "pattern": {
              "fillmode": "overlay",
              "size": 10,
              "solidity": 0.2
             }
            },
            "type": "histogram"
           }
          ],
          "histogram2d": [
           {
            "colorbar": {
             "outlinewidth": 0,
             "ticks": ""
            },
            "colorscale": [
             [
              0,
              "#0d0887"
             ],
             [
              0.1111111111111111,
              "#46039f"
             ],
             [
              0.2222222222222222,
              "#7201a8"
             ],
             [
              0.3333333333333333,
              "#9c179e"
             ],
             [
              0.4444444444444444,
              "#bd3786"
             ],
             [
              0.5555555555555556,
              "#d8576b"
             ],
             [
              0.6666666666666666,
              "#ed7953"
             ],
             [
              0.7777777777777778,
              "#fb9f3a"
             ],
             [
              0.8888888888888888,
              "#fdca26"
             ],
             [
              1,
              "#f0f921"
             ]
            ],
            "type": "histogram2d"
           }
          ],
          "histogram2dcontour": [
           {
            "colorbar": {
             "outlinewidth": 0,
             "ticks": ""
            },
            "colorscale": [
             [
              0,
              "#0d0887"
             ],
             [
              0.1111111111111111,
              "#46039f"
             ],
             [
              0.2222222222222222,
              "#7201a8"
             ],
             [
              0.3333333333333333,
              "#9c179e"
             ],
             [
              0.4444444444444444,
              "#bd3786"
             ],
             [
              0.5555555555555556,
              "#d8576b"
             ],
             [
              0.6666666666666666,
              "#ed7953"
             ],
             [
              0.7777777777777778,
              "#fb9f3a"
             ],
             [
              0.8888888888888888,
              "#fdca26"
             ],
             [
              1,
              "#f0f921"
             ]
            ],
            "type": "histogram2dcontour"
           }
          ],
          "mesh3d": [
           {
            "colorbar": {
             "outlinewidth": 0,
             "ticks": ""
            },
            "type": "mesh3d"
           }
          ],
          "parcoords": [
           {
            "line": {
             "colorbar": {
              "outlinewidth": 0,
              "ticks": ""
             }
            },
            "type": "parcoords"
           }
          ],
          "pie": [
           {
            "automargin": true,
            "type": "pie"
           }
          ],
          "scatter": [
           {
            "fillpattern": {
             "fillmode": "overlay",
             "size": 10,
             "solidity": 0.2
            },
            "type": "scatter"
           }
          ],
          "scatter3d": [
           {
            "line": {
             "colorbar": {
              "outlinewidth": 0,
              "ticks": ""
             }
            },
            "marker": {
             "colorbar": {
              "outlinewidth": 0,
              "ticks": ""
             }
            },
            "type": "scatter3d"
           }
          ],
          "scattercarpet": [
           {
            "marker": {
             "colorbar": {
              "outlinewidth": 0,
              "ticks": ""
             }
            },
            "type": "scattercarpet"
           }
          ],
          "scattergeo": [
           {
            "marker": {
             "colorbar": {
              "outlinewidth": 0,
              "ticks": ""
             }
            },
            "type": "scattergeo"
           }
          ],
          "scattergl": [
           {
            "marker": {
             "colorbar": {
              "outlinewidth": 0,
              "ticks": ""
             }
            },
            "type": "scattergl"
           }
          ],
          "scattermapbox": [
           {
            "marker": {
             "colorbar": {
              "outlinewidth": 0,
              "ticks": ""
             }
            },
            "type": "scattermapbox"
           }
          ],
          "scatterpolar": [
           {
            "marker": {
             "colorbar": {
              "outlinewidth": 0,
              "ticks": ""
             }
            },
            "type": "scatterpolar"
           }
          ],
          "scatterpolargl": [
           {
            "marker": {
             "colorbar": {
              "outlinewidth": 0,
              "ticks": ""
             }
            },
            "type": "scatterpolargl"
           }
          ],
          "scatterternary": [
           {
            "marker": {
             "colorbar": {
              "outlinewidth": 0,
              "ticks": ""
             }
            },
            "type": "scatterternary"
           }
          ],
          "surface": [
           {
            "colorbar": {
             "outlinewidth": 0,
             "ticks": ""
            },
            "colorscale": [
             [
              0,
              "#0d0887"
             ],
             [
              0.1111111111111111,
              "#46039f"
             ],
             [
              0.2222222222222222,
              "#7201a8"
             ],
             [
              0.3333333333333333,
              "#9c179e"
             ],
             [
              0.4444444444444444,
              "#bd3786"
             ],
             [
              0.5555555555555556,
              "#d8576b"
             ],
             [
              0.6666666666666666,
              "#ed7953"
             ],
             [
              0.7777777777777778,
              "#fb9f3a"
             ],
             [
              0.8888888888888888,
              "#fdca26"
             ],
             [
              1,
              "#f0f921"
             ]
            ],
            "type": "surface"
           }
          ],
          "table": [
           {
            "cells": {
             "fill": {
              "color": "#EBF0F8"
             },
             "line": {
              "color": "white"
             }
            },
            "header": {
             "fill": {
              "color": "#C8D4E3"
             },
             "line": {
              "color": "white"
             }
            },
            "type": "table"
           }
          ]
         },
         "layout": {
          "annotationdefaults": {
           "arrowcolor": "#2a3f5f",
           "arrowhead": 0,
           "arrowwidth": 1
          },
          "autotypenumbers": "strict",
          "coloraxis": {
           "colorbar": {
            "outlinewidth": 0,
            "ticks": ""
           }
          },
          "colorscale": {
           "diverging": [
            [
             0,
             "#8e0152"
            ],
            [
             0.1,
             "#c51b7d"
            ],
            [
             0.2,
             "#de77ae"
            ],
            [
             0.3,
             "#f1b6da"
            ],
            [
             0.4,
             "#fde0ef"
            ],
            [
             0.5,
             "#f7f7f7"
            ],
            [
             0.6,
             "#e6f5d0"
            ],
            [
             0.7,
             "#b8e186"
            ],
            [
             0.8,
             "#7fbc41"
            ],
            [
             0.9,
             "#4d9221"
            ],
            [
             1,
             "#276419"
            ]
           ],
           "sequential": [
            [
             0,
             "#0d0887"
            ],
            [
             0.1111111111111111,
             "#46039f"
            ],
            [
             0.2222222222222222,
             "#7201a8"
            ],
            [
             0.3333333333333333,
             "#9c179e"
            ],
            [
             0.4444444444444444,
             "#bd3786"
            ],
            [
             0.5555555555555556,
             "#d8576b"
            ],
            [
             0.6666666666666666,
             "#ed7953"
            ],
            [
             0.7777777777777778,
             "#fb9f3a"
            ],
            [
             0.8888888888888888,
             "#fdca26"
            ],
            [
             1,
             "#f0f921"
            ]
           ],
           "sequentialminus": [
            [
             0,
             "#0d0887"
            ],
            [
             0.1111111111111111,
             "#46039f"
            ],
            [
             0.2222222222222222,
             "#7201a8"
            ],
            [
             0.3333333333333333,
             "#9c179e"
            ],
            [
             0.4444444444444444,
             "#bd3786"
            ],
            [
             0.5555555555555556,
             "#d8576b"
            ],
            [
             0.6666666666666666,
             "#ed7953"
            ],
            [
             0.7777777777777778,
             "#fb9f3a"
            ],
            [
             0.8888888888888888,
             "#fdca26"
            ],
            [
             1,
             "#f0f921"
            ]
           ]
          },
          "colorway": [
           "#636efa",
           "#EF553B",
           "#00cc96",
           "#ab63fa",
           "#FFA15A",
           "#19d3f3",
           "#FF6692",
           "#B6E880",
           "#FF97FF",
           "#FECB52"
          ],
          "font": {
           "color": "#2a3f5f"
          },
          "geo": {
           "bgcolor": "white",
           "lakecolor": "white",
           "landcolor": "#E5ECF6",
           "showlakes": true,
           "showland": true,
           "subunitcolor": "white"
          },
          "hoverlabel": {
           "align": "left"
          },
          "hovermode": "closest",
          "mapbox": {
           "style": "light"
          },
          "paper_bgcolor": "white",
          "plot_bgcolor": "#E5ECF6",
          "polar": {
           "angularaxis": {
            "gridcolor": "white",
            "linecolor": "white",
            "ticks": ""
           },
           "bgcolor": "#E5ECF6",
           "radialaxis": {
            "gridcolor": "white",
            "linecolor": "white",
            "ticks": ""
           }
          },
          "scene": {
           "xaxis": {
            "backgroundcolor": "#E5ECF6",
            "gridcolor": "white",
            "gridwidth": 2,
            "linecolor": "white",
            "showbackground": true,
            "ticks": "",
            "zerolinecolor": "white"
           },
           "yaxis": {
            "backgroundcolor": "#E5ECF6",
            "gridcolor": "white",
            "gridwidth": 2,
            "linecolor": "white",
            "showbackground": true,
            "ticks": "",
            "zerolinecolor": "white"
           },
           "zaxis": {
            "backgroundcolor": "#E5ECF6",
            "gridcolor": "white",
            "gridwidth": 2,
            "linecolor": "white",
            "showbackground": true,
            "ticks": "",
            "zerolinecolor": "white"
           }
          },
          "shapedefaults": {
           "line": {
            "color": "#2a3f5f"
           }
          },
          "ternary": {
           "aaxis": {
            "gridcolor": "white",
            "linecolor": "white",
            "ticks": ""
           },
           "baxis": {
            "gridcolor": "white",
            "linecolor": "white",
            "ticks": ""
           },
           "bgcolor": "#E5ECF6",
           "caxis": {
            "gridcolor": "white",
            "linecolor": "white",
            "ticks": ""
           }
          },
          "title": {
           "x": 0.05
          },
          "xaxis": {
           "automargin": true,
           "gridcolor": "white",
           "linecolor": "white",
           "ticks": "",
           "title": {
            "standoff": 15
           },
           "zerolinecolor": "white",
           "zerolinewidth": 2
          },
          "yaxis": {
           "automargin": true,
           "gridcolor": "white",
           "linecolor": "white",
           "ticks": "",
           "title": {
            "standoff": 15
           },
           "zerolinecolor": "white",
           "zerolinewidth": 2
          }
         }
        },
        "title": {
         "text": "Losses"
        },
        "xaxis": {
         "title": {
          "text": "Iteration"
         }
        },
        "yaxis": {
         "title": {
          "text": "Loss"
         }
        }
       }
      }
     },
     "metadata": {},
     "output_type": "display_data"
    }
   ],
   "source": [
    "mlp = SimpleMLP().to(device)\n",
    "\n",
    "batch_size = 64\n",
    "epochs = 3\n",
    "mnist_train, _ = get_mnist(subset=10)\n",
    "mnist_loader = DataLoader(mnist_train, batch_size=batch_size, shuffle=True)\n",
    "\n",
    "optimizer = torch.optim.Adam(mlp.parameters(), lr=1e-3)\n",
    "losses = []\n",
    "test_losses = []\n",
    "for epoch in range(epochs):\n",
    "    for imgs, labels in mnist_loader:\n",
    "        imgs = imgs.to(device)\n",
    "        labels = labels.to(device)\n",
    "        logits = mlp(imgs)\n",
    "\n",
    "        loss = F.cross_entropy(logits, labels)\n",
    "        loss.backward()\n",
    "        optimizer.step()\n",
    "        optimizer.zero_grad()\n",
    "        losses.append(loss.item())\n",
    "\n",
    "# Plot losses\n",
    "fig = go.Figure()\n",
    "fig.add_trace(go.Scatter(y=losses, mode=\"lines\"))\n",
    "fig.update_layout(title=\"Losses\", xaxis_title=\"Iteration\", yaxis_title=\"Loss\")\n",
    "fig.show()"
   ]
  },
  {
   "cell_type": "code",
   "execution_count": null,
   "metadata": {},
   "outputs": [],
   "source": []
  }
 ],
 "metadata": {
  "kernelspec": {
   "display_name": "env",
   "language": "python",
   "name": "python3"
  },
  "language_info": {
   "codemirror_mode": {
    "name": "ipython",
    "version": 3
   },
   "file_extension": ".py",
   "mimetype": "text/x-python",
   "name": "python",
   "nbconvert_exporter": "python",
   "pygments_lexer": "ipython3",
   "version": "3.10.0"
  }
 },
 "nbformat": 4,
 "nbformat_minor": 2
}
