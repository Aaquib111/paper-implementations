{
 "cells": [
  {
   "cell_type": "code",
   "execution_count": 16,
   "metadata": {},
   "outputs": [],
   "source": [
    "import jax\n",
    "from jax import grad, jit, vmap, make_jaxpr, jacfwd, jacrev, random, lax, ops\n",
    "import jax.numpy as jnp\n",
    "\n",
    "import numpy as np\n",
    "import matplotlib.pyplot as plt"
   ]
  },
  {
   "cell_type": "markdown",
   "metadata": {},
   "source": [
    "# States"
   ]
  },
  {
   "cell_type": "code",
   "execution_count": 5,
   "metadata": {},
   "outputs": [
    {
     "name": "stdout",
     "output_type": "stream",
     "text": [
      "1\n",
      "2\n",
      "3\n",
      "1\n",
      "1\n",
      "1\n"
     ]
    }
   ],
   "source": [
    "# Stateful class\n",
    "class Counter():\n",
    "\n",
    "    def __init__(self, init=0):\n",
    "        self.c = init\n",
    "\n",
    "    def count(self):\n",
    "        self.c += 1\n",
    "        return self.c\n",
    "\n",
    "c = Counter()\n",
    "\n",
    "# Works\n",
    "for i in range(3):\n",
    "    print(c.count())\n",
    "\n",
    "# Does NOT work\n",
    "c = Counter()\n",
    "jit_count = jit(c.count)\n",
    "for i in range(3):\n",
    "    print(jit_count())\n",
    "\n",
    "make_jaxpr(jit_count)() # The jaxpr is just return 1"
   ]
  },
  {
   "cell_type": "code",
   "execution_count": 13,
   "metadata": {},
   "outputs": [
    {
     "name": "stdout",
     "output_type": "stream",
     "text": [
      "1\n",
      "2\n",
      "3\n"
     ]
    },
    {
     "data": {
      "text/plain": [
       "{ \u001b[34m\u001b[22m\u001b[1mlambda \u001b[39m\u001b[22m\u001b[22m; a\u001b[35m:i32[]\u001b[39m. \u001b[34m\u001b[22m\u001b[1mlet\n",
       "    \u001b[39m\u001b[22m\u001b[22mb\u001b[35m:i32[]\u001b[39m c\u001b[35m:i32[]\u001b[39m = pjit[\n",
       "      jaxpr={ \u001b[34m\u001b[22m\u001b[1mlambda \u001b[39m\u001b[22m\u001b[22m; d\u001b[35m:i32[]\u001b[39m. \u001b[34m\u001b[22m\u001b[1mlet\u001b[39m\u001b[22m\u001b[22m e\u001b[35m:i32[]\u001b[39m = add d 1 \u001b[34m\u001b[22m\u001b[1min \u001b[39m\u001b[22m\u001b[22m(e, e) }\n",
       "      name=count\n",
       "    ] a\n",
       "  \u001b[34m\u001b[22m\u001b[1min \u001b[39m\u001b[22m\u001b[22m(b, c) }"
      ]
     },
     "execution_count": 13,
     "metadata": {},
     "output_type": "execute_result"
    }
   ],
   "source": [
    "# Making this stateless\n",
    "\n",
    "class StateLessCounter():\n",
    "    def __init__(self):\n",
    "        pass\n",
    "\n",
    "    def reset(self):\n",
    "        return 0 # return inital state\n",
    "\n",
    "    def count(self, c):\n",
    "        c += 1\n",
    "        return c, c # return state_result, new_state\n",
    "\n",
    "c = StateLessCounter()\n",
    "jit_count = jit(c.count)\n",
    "c_new = c.reset()\n",
    "# Works with JIT\n",
    "for i in range(3):\n",
    "    c_res, c_new = jit_count(c_new)\n",
    "    print(c_res)\n",
    "\n",
    "make_jaxpr(jit_count)(c_new)"
   ]
  },
  {
   "cell_type": "markdown",
   "metadata": {},
   "source": [
    "# PyTrees for Stateless Designs"
   ]
  },
  {
   "cell_type": "code",
   "execution_count": 22,
   "metadata": {},
   "outputs": [
    {
     "name": "stdout",
     "output_type": "stream",
     "text": [
      "[1, 'a', <object object at 0x1325df850>]\n",
      "[1, 2, 3]\n",
      "[1, 3, 2]\n",
      "[3, 4, 2]\n",
      "[Array([1, 2, 3], dtype=int32)]\n"
     ]
    },
    {
     "data": {
      "text/plain": [
       "[{'a': 6, 'b': 4}, [2, 4, 6], [8, 10], (14, 16)]"
      ]
     },
     "execution_count": 22,
     "metadata": {},
     "output_type": "execute_result"
    }
   ],
   "source": [
    "ex_pytree = [\n",
    "    [1, 'a', object()],\n",
    "    (1, (2,3), ()),\n",
    "    [1, {'foo': 2, 'bar': 3}],\n",
    "    {'foo': 2, 'bar': (3,4)},\n",
    "    jnp.array([1,2,3]),\n",
    "]\n",
    "\n",
    "for ptree in ex_pytree:\n",
    "    print(jax.tree_util.tree_leaves(ptree))\n",
    "\n",
    "# Map a function over a tree\n",
    "ftree = [\n",
    "    {'a':3, 'b': 2},\n",
    "    [1, 2, 3],\n",
    "    [4, 5],\n",
    "    (7, 8)\n",
    "]\n",
    "ftree2 = ftree\n",
    "jax.tree_map(lambda x: 4 * x ** 2 , ftree)\n",
    "\n",
    "jax.tree_map(lambda x, y: x + y, ftree, ftree2)"
   ]
  },
  {
   "cell_type": "markdown",
   "metadata": {},
   "source": [
    "# Creating an MLP"
   ]
  },
  {
   "cell_type": "code",
   "execution_count": 113,
   "metadata": {},
   "outputs": [
    {
     "data": {
      "text/plain": [
       "[{'bias': (128,), 'weight': (1, 128)},\n",
       " {'bias': (128,), 'weight': (128, 128)},\n",
       " {'bias': (1,), 'weight': (128, 1)}]"
      ]
     },
     "execution_count": 113,
     "metadata": {},
     "output_type": "execute_result"
    }
   ],
   "source": [
    "def create_params(size_list, key):\n",
    "    params = []\n",
    "    key, subkey = random.split(key)\n",
    "    for i in range(len(size_list) - 1):\n",
    "\n",
    "        in_shape = size_list[i]\n",
    "        out_shape = size_list[i + 1]\n",
    "        params.append(\n",
    "            {\n",
    "                'weight': random.normal(subkey, (in_shape, out_shape)) * jnp.sqrt(2/in_shape),\n",
    "                'bias': jnp.ones((out_shape,))\n",
    "            }\n",
    "        )\n",
    "        key, subkey = random.split(key)\n",
    "    return params\n",
    "\n",
    "jax.tree_map(lambda param: param.shape, create_params([1, 128, 128, 1], random.PRNGKey(0)))\n"
   ]
  },
  {
   "cell_type": "code",
   "execution_count": 114,
   "metadata": {},
   "outputs": [],
   "source": [
    "import einops\n",
    "\n",
    "def forward(params, x):\n",
    "    *hidden, last = params\n",
    "    for p in hidden:\n",
    "        x = jax.nn.relu(einops.einsum(\n",
    "            p['weight'],\n",
    "            x,\n",
    "            \"in1 out1, batch in1 -> batch out1\"\n",
    "        ) + p['bias'])\n",
    "\n",
    "    x = einops.einsum(\n",
    "        last['weight'],\n",
    "        x,\n",
    "        \"in1 out1, batch in1 -> batch out1\"\n",
    "    ) + last['bias']\n",
    "    return x\n",
    "\n",
    "def loss(params, x, y):\n",
    "    pred = forward(params, x)\n",
    "    l = jnp.mean((pred - y) ** 2)\n",
    "    return l\n",
    "\n",
    "def update(params, x, y, lr=0.0001):\n",
    "    gradients = grad(loss)(params, x, y)\n",
    "    return jax.tree_map(lambda param, gradient: param - lr * gradient, params, gradients)"
   ]
  },
  {
   "cell_type": "code",
   "execution_count": 116,
   "metadata": {},
   "outputs": [],
   "source": [
    "key = random.PRNGKey(0)\n",
    "key, subkey = random.split(key)\n",
    "\n",
    "params = create_params([1, 128, 128, 1], key)\n",
    "\n",
    "key, subkey = random.split(subkey)\n",
    "xs = random.uniform(key, (100, 1), minval=-1, maxval=1)\n",
    "ys = xs ** 2\n",
    "\n",
    "plt.scatter(xs, ys, label='ground truth')\n",
    "\n",
    "MAX_ITER = 5000\n",
    "for _ in range(MAX_ITER):\n",
    "    params = update(params, xs, ys)\n",
    "\n",
    "preds = forward(params, xs)\n",
    "\n",
    "plt.scatter(xs, preds, label='fit')\n",
    "plt.title('Fitting on y = x^2')\n",
    "plt.legend()\n",
    "plt.show()"
   ]
  },
  {
   "cell_type": "code",
   "execution_count": null,
   "metadata": {},
   "outputs": [],
   "source": []
  }
 ],
 "metadata": {
  "kernelspec": {
   "display_name": "env",
   "language": "python",
   "name": "python3"
  },
  "language_info": {
   "codemirror_mode": {
    "name": "ipython",
    "version": 3
   },
   "file_extension": ".py",
   "mimetype": "text/x-python",
   "name": "python",
   "nbconvert_exporter": "python",
   "pygments_lexer": "ipython3",
   "version": "3.10.0"
  }
 },
 "nbformat": 4,
 "nbformat_minor": 2
}
